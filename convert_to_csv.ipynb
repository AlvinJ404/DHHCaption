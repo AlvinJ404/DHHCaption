{
 "cells": [
  {
   "cell_type": "code",
   "execution_count": 2,
   "metadata": {},
   "outputs": [],
   "source": [
    "import csv"
   ]
  },
  {
   "cell_type": "code",
   "execution_count": 15,
   "metadata": {},
   "outputs": [],
   "source": [
    "import csv\n",
    "\n",
    "def tokenize_line(line):\n",
    "    tokens = {}\n",
    "    parts = line.split('. ')\n",
    "    for part in parts:\n",
    "        if part.startswith(\"Original sentence: \"):\n",
    "            tokens['original_sentence'] = part[len(\"Original sentence: \"):].strip()\n",
    "        elif part.startswith(\"Summary: \"):\n",
    "            tokens['summary'] = part[len(\"Summary: \"):].strip()\n",
    "        elif part.startswith(\"Level: \"):\n",
    "            tokens['level'] = part[len(\"Level: \"):].strip()\n",
    "        elif part.startswith(\"FRE: \"):\n",
    "            tokens['FRE'] = part[len(\"FRE: \"):].strip()\n",
    "        elif part.startswith(\"Total words: \"):\n",
    "            tokens['total_words'] = part[len(\"Total words: \"):].strip()\n",
    "        elif part.startswith(\"Total sentences: \"):\n",
    "            tokens['total_sentences'] = part[len(\"Total sentences: \"):].strip()\n",
    "        elif part.startswith(\"Total syllables: \"):\n",
    "            tokens['total_syllables'] = part[len(\"Total syllables: \"):].strip()\n",
    "    return tokens\n",
    "\n",
    "def transform_to_csv(input_file, output_file):\n",
    "    with open(input_file, 'r') as infile, open(output_file, 'w', newline='') as outfile:\n",
    "        writer = csv.DictWriter(outfile, fieldnames=[\n",
    "            'original_sentence', 'summary', 'level', 'FRE', 'total_words', 'total_sentences', 'total_syllables'])\n",
    "        writer.writeheader()\n",
    "        \n",
    "        for line in infile:\n",
    "            tokens = tokenize_line(line)\n",
    "            writer.writerow(tokens)\n",
    "            "
   ]
  },
  {
   "cell_type": "code",
   "execution_count": 16,
   "metadata": {},
   "outputs": [],
   "source": [
    "transform_to_csv('combined_by_sentence_result\\combined_by_1_sentence_result\\combined_by_1_sentence_result.txt', 'combined_by_sentence_result\\combined_by_1_sentence_result\\combined_by_1_sentence_result.csv')"
   ]
  }
 ],
 "metadata": {
  "kernelspec": {
   "display_name": "Python 3",
   "language": "python",
   "name": "python3"
  },
  "language_info": {
   "codemirror_mode": {
    "name": "ipython",
    "version": 3
   },
   "file_extension": ".py",
   "mimetype": "text/x-python",
   "name": "python",
   "nbconvert_exporter": "python",
   "pygments_lexer": "ipython3",
   "version": "3.11.4"
  }
 },
 "nbformat": 4,
 "nbformat_minor": 2
}
