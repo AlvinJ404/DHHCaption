{
 "cells": [
  {
   "cell_type": "code",
   "execution_count": 5,
   "metadata": {},
   "outputs": [
    {
     "name": "stderr",
     "output_type": "stream",
     "text": [
      "[nltk_data] Downloading package cmudict to\n",
      "[nltk_data]     C:\\Users\\alvin\\AppData\\Roaming\\nltk_data...\n",
      "[nltk_data]   Package cmudict is already up-to-date!\n",
      "[nltk_data] Downloading package punkt to\n",
      "[nltk_data]     C:\\Users\\alvin\\AppData\\Roaming\\nltk_data...\n",
      "[nltk_data]   Package punkt is already up-to-date!\n"
     ]
    }
   ],
   "source": [
    "import nltk\n",
    "from nltk.corpus import cmudict\n",
    "from nltk.tokenize import word_tokenize\n",
    "import re\n",
    "\n",
    "nltk.download('cmudict')\n",
    "nltk.download('punkt')\n",
    "\n",
    "d = cmudict.dict()"
   ]
  },
  {
   "cell_type": "code",
   "execution_count": 6,
   "metadata": {},
   "outputs": [],
   "source": [
    "def count_syllables(word):\n",
    "    word = word.lower()\n",
    "    # Regular expression to match vowel groups\n",
    "    syllable_regex = re.compile(r'[aeiouy]+')\n",
    "    syllables = syllable_regex.findall(word)\n",
    "    return len(syllables)"
   ]
  },
  {
   "cell_type": "code",
   "execution_count": 7,
   "metadata": {},
   "outputs": [],
   "source": [
    "# The Flesch Reading Ease (FRE) scale is a measure of text readability, given by:\n",
    "# FRE = 206.835 - 1.015 * (total_words / total_sentences) - 84.6 * (total_syllables / total_words)\n",
    "\n",
    "def eval_FRE(input):\n",
    "    words = word_tokenize(input)\n",
    "    sentence = re.sub(r'[^\\w\\s]', '', input)\n",
    "    total_words = len(input.split(' '))\n",
    "    total_sentences = input.count('.') + input.count('!') + input.count('?')\n",
    "    total_syllables = sum(count_syllables(word) for word in words)\n",
    "    print(total_words, total_sentences, total_syllables)\n",
    "    return (206.835 - 1.015 * (total_words / total_sentences) - 84.6 * (total_syllables / total_words))"
   ]
  },
  {
   "cell_type": "code",
   "execution_count": 11,
   "metadata": {},
   "outputs": [
    {
     "name": "stdout",
     "output_type": "stream",
     "text": [
      "16 1 33\n",
      "Cryptocurrency appeared 10 years ago when a pseudonym posted a paper and code online, introducing Bitcoin.|, FRE: 16.107500000000016\n",
      "14 1 28\n",
      "Cryptocurrencies emerged around 10 years ago with Bitcoin being announced by a pseudonym online.|, FRE: 23.42500000000001\n",
      "16 1 31\n",
      "A pseudonym released Bitcoin online about a decade ago by sharing a paper and some code.|, FRE: 26.682500000000005\n",
      "17 1 30\n",
      "Bitcoin was introduced online by an anonymous person about 10 years ago through a paper and code.|, FRE: 40.2858823529412\n",
      "17 1 30\n",
      "Around 10 years ago, Bitcoin was announced online by an anonymous person sharing a paper and code.|, FRE: 40.2858823529412\n",
      "14 1 30\n",
      "Ten years ago, a pseudonym online shared Bitcoin's code and paper, introducing the cryptocurrency.|, FRE: 11.339285714285722\n",
      "14 1 27\n",
      "Bitcoin appeared online a decade ago when a pseudonym shared a paper and code.|, FRE: 29.467857142857156\n",
      "15 1 25\n",
      "Bitcoin was posted online ten years ago when a pseudonym shared a paper and code.|, FRE: 50.610000000000014\n",
      "15 1 24\n",
      "Ten years ago, Bitcoin was shared online by a pseudonym with a paper and code.|, FRE: 56.25000000000003\n",
      "15 1 24\n",
      "Bitcoin was shared online by a pseudonym with a paper and code ten years ago.|, FRE: 56.25000000000003\n"
     ]
    }
   ],
   "source": [
    "import pandas as pd\n",
    "df = pd.read_csv('by_sentence_summary/2_sentence_summary/2_sentence_summary.csv')\n",
    "sample = df['summary'][0:10]\n",
    "for s in sample:\n",
    "    print(f'{s}, FRE: {eval_FRE(s)}')"
   ]
  }
 ],
 "metadata": {
  "kernelspec": {
   "display_name": "Python 3",
   "language": "python",
   "name": "python3"
  },
  "language_info": {
   "codemirror_mode": {
    "name": "ipython",
    "version": 3
   },
   "file_extension": ".py",
   "mimetype": "text/x-python",
   "name": "python",
   "nbconvert_exporter": "python",
   "pygments_lexer": "ipython3",
   "version": "3.11.4"
  }
 },
 "nbformat": 4,
 "nbformat_minor": 2
}
