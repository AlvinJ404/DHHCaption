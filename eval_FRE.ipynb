{
 "cells": [
  {
   "cell_type": "code",
   "execution_count": 30,
   "metadata": {},
   "outputs": [
    {
     "name": "stderr",
     "output_type": "stream",
     "text": [
      "[nltk_data] Downloading package cmudict to\n",
      "[nltk_data]     C:\\Users\\alvin\\AppData\\Roaming\\nltk_data...\n",
      "[nltk_data]   Package cmudict is already up-to-date!\n",
      "[nltk_data] Downloading package punkt to\n",
      "[nltk_data]     C:\\Users\\alvin\\AppData\\Roaming\\nltk_data...\n",
      "[nltk_data]   Package punkt is already up-to-date!\n"
     ]
    }
   ],
   "source": [
    "import nltk\n",
    "from nltk.corpus import cmudict\n",
    "from nltk.tokenize import word_tokenize\n",
    "import syllapy\n",
    "import pandas as pd\n",
    "\n",
    "nltk.download('cmudict')\n",
    "nltk.download('punkt')\n",
    "\n",
    "d = cmudict.dict()"
   ]
  },
  {
   "cell_type": "code",
   "execution_count": 31,
   "metadata": {},
   "outputs": [
    {
     "name": "stdout",
     "output_type": "stream",
     "text": [
      "31\n"
     ]
    }
   ],
   "source": [
    "count = 0\n",
    "input = \"Cryptocurrency appeared 10 years ago when a pseudonym posted a paper and code online, introducing Bitcoin.\"\n",
    "for word in word_tokenize(input):\n",
    "    count += syllapy.count(word)\n",
    "\n",
    "print(count)"
   ]
  },
  {
   "cell_type": "code",
   "execution_count": 35,
   "metadata": {},
   "outputs": [],
   "source": [
    "# The Flesch Reading Ease (FRE) scale is a measure of text readability, given by:\n",
    "# FRE = 206.835 - 1.015 * (total_words / total_sentences) - 84.6 * (total_syllables / total_words)\n",
    "\n",
    "def eval_FRE(input):\n",
    "    total_words = len(input.split(' '))\n",
    "    total_sentences = input.count('.') + input.count('!') + input.count('?')\n",
    "    total_syllables = 0\n",
    "    for word in word_tokenize(input):\n",
    "        total_syllables += syllapy.count(word)\n",
    "    print(total_words, total_sentences, total_syllables)\n",
    "    return (206.835 - 1.015 * (total_words / total_sentences) - 84.6 * (total_syllables / total_words))"
   ]
  },
  {
   "cell_type": "markdown",
   "metadata": {},
   "source": [
    "For experimentation purposes"
   ]
  },
  {
   "cell_type": "code",
   "execution_count": 37,
   "metadata": {},
   "outputs": [
    {
     "name": "stdout",
     "output_type": "stream",
     "text": [
      "21 1 36\n",
      "A pseudonym online shared a paper and code for Bitcoin, calling it electronic cash, inviting others to join the peer-to-peer network., FRE: 40.4914285714286\n",
      "19 1 26\n",
      "Bitcoin was introduced 10 years ago by an unknown person who shared a paper and code on a forum., FRE: 71.78157894736843\n",
      "17 1 28\n",
      "Around 10 years ago, Bitcoin appeared with a paper and code posted by a pseudonymous person online., FRE: 50.2388235294118\n",
      "20 1 28\n",
      "Bitcoin was introduced by someone using a pseudonym 10 years ago; they shared a paper and code on a forum., FRE: 68.09500000000004\n",
      "19 1 31\n",
      "Someone using a pseudonym introduced Bitcoin 10 years ago by sharing a paper and code, calling it electronic cash., FRE: 49.518421052631595\n",
      "19 1 32\n",
      "About 10 years ago, a pseudonym introduced Bitcoin, describing it as electronic cash and sharing code in a forum., FRE: 45.06578947368425\n",
      "22 1 36\n",
      "The concept of Bitcoin was introduced 10 years ago by an anonymous individual who posted code and a paper in a forum., FRE: 46.06863636363636\n",
      "33 1 51\n",
      "Ten years ago, a person hidden behind a pseudonym shared the idea of Bitcoin on an email list, describing it as electronic cash and provided code to be a part of the network., FRE: 42.59454545454548\n",
      "39 2 71\n",
      "A decade ago, a person using a pseudonym introduced the concept of Bitcoin through an online forum, explaining its potential as electronic cash and sharing code for participating in a peer-to-peer network. The identity of this person remains unknown., FRE: 33.02711538461543\n",
      "38 2 80\n",
      "This person has disappeared online and in the world but created impactful technology that generated billions in value and inspired problem-solving beyond payments, like banking the unbanked and improving traceability. This class, however, focuses on technology, not applications., FRE: 9.4447368421053\n"
     ]
    }
   ],
   "source": [
    "file_type = 'sentence'\n",
    "# file_type = 'word'\n",
    "count = 6\n",
    "\n",
    "if file_type == 'sentence':\n",
    "    input_file = f'by_sentence_summary/{count}_sentence_summary/{count}_sentence_summary.csv'\n",
    "elif file_type == 'word':\n",
    "    input_file = f'by_word_summary/{count}_word_summary/{count}_word_summary.csv'\n",
    "\n",
    "\n",
    "df = pd.read_csv(input_file)\n",
    "sample = df['summary'][0:10]\n",
    "for s in sample:\n",
    "    print(f'{s}, FRE: {eval_FRE(s)}')"
   ]
  }
 ],
 "metadata": {
  "kernelspec": {
   "display_name": "Python 3",
   "language": "python",
   "name": "python3"
  },
  "language_info": {
   "codemirror_mode": {
    "name": "ipython",
    "version": 3
   },
   "file_extension": ".py",
   "mimetype": "text/x-python",
   "name": "python",
   "nbconvert_exporter": "python",
   "pygments_lexer": "ipython3",
   "version": "3.11.4"
  }
 },
 "nbformat": 4,
 "nbformat_minor": 2
}
