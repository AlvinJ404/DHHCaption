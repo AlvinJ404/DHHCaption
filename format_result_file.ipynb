{
 "cells": [
  {
   "cell_type": "code",
   "execution_count": 1,
   "metadata": {},
   "outputs": [],
   "source": [
    "def remove_empty_lines(file_path):\n",
    "    with open(file_path, 'r') as file:\n",
    "        lines = file.readlines()\n",
    "    \n",
    "    cleaned_lines = [line for line in lines if line.strip()]\n",
    "\n",
    "    with open(file_path, 'w') as file:\n",
    "        file.writelines(cleaned_lines)\n"
   ]
  },
  {
   "cell_type": "code",
   "execution_count": 2,
   "metadata": {},
   "outputs": [],
   "source": [
    "def combined_lines(file_path):\n",
    "    with open(file_path, 'r') as file:\n",
    "        lines = file.readlines()\n",
    "    \n",
    "    processed_lines = []\n",
    "    \n",
    "    keywords = {\"Summary\", \"Level\", \"FRE\", \"Total words\", \"Total sentences\", \"Total syllables\"}\n",
    "    \n",
    "    buffer = \"\"\n",
    "    \n",
    "    for line in lines:\n",
    "        if line.strip():\n",
    "            parts = line.split(':')\n",
    "            if parts[0].strip() in keywords and buffer:\n",
    "                buffer = buffer.rstrip() + '. ' + line.strip()\n",
    "            else:\n",
    "                if buffer:\n",
    "                    processed_lines.append(buffer)\n",
    "                buffer = line.strip()\n",
    "    \n",
    "    if buffer:\n",
    "        processed_lines.append(buffer)\n",
    "    \n",
    "    with open(file_path, 'w') as file:\n",
    "        for processed_line in processed_lines:\n",
    "            file.write(processed_line + '\\n')"
   ]
  },
  {
   "cell_type": "code",
   "execution_count": 3,
   "metadata": {},
   "outputs": [],
   "source": [
    "remove_empty_lines('combined_by_sentence_result\\combined_by_1_sentence_result\\combined_by_1_sentence_result.txt')\n",
    "combined_lines('combined_by_sentence_result\\combined_by_1_sentence_result\\combined_by_1_sentence_result.txt')"
   ]
  }
 ],
 "metadata": {
  "kernelspec": {
   "display_name": "Python 3",
   "language": "python",
   "name": "python3"
  },
  "language_info": {
   "codemirror_mode": {
    "name": "ipython",
    "version": 3
   },
   "file_extension": ".py",
   "mimetype": "text/x-python",
   "name": "python",
   "nbconvert_exporter": "python",
   "pygments_lexer": "ipython3",
   "version": "3.11.4"
  }
 },
 "nbformat": 4,
 "nbformat_minor": 2
}
