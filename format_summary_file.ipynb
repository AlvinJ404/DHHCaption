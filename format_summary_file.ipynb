{
 "cells": [
  {
   "cell_type": "code",
   "execution_count": 2,
   "metadata": {},
   "outputs": [],
   "source": [
    "import csv"
   ]
  },
  {
   "cell_type": "code",
   "execution_count": 3,
   "metadata": {},
   "outputs": [],
   "source": [
    "def remove_empty_lines(file_path):\n",
    "    with open(file_path, 'r') as file:\n",
    "        lines = file.readlines()\n",
    "    \n",
    "    cleaned_lines = [line for line in lines if line.strip()]\n",
    "\n",
    "    with open(file_path, 'w') as file:\n",
    "        file.writelines(cleaned_lines)\n"
   ]
  },
  {
   "cell_type": "code",
   "execution_count": 8,
   "metadata": {},
   "outputs": [],
   "source": [
    "def combine_lines(file_path):\n",
    "    with open(file_path, 'r') as file:\n",
    "        lines = file.readlines()\n",
    "    \n",
    "    processed_lines = []\n",
    "    \n",
    "    keywords = {\"Summary\", \"Level\", \"FRE\", \"Total words\", \"Total sentences\", \"Total syllables\"}\n",
    "    \n",
    "    buffer = \"\"\n",
    "    \n",
    "    for line in lines:\n",
    "        if line.strip():\n",
    "            parts = line.split(':')\n",
    "            if parts[0].strip() in keywords and buffer:\n",
    "                buffer = buffer.rstrip() + '. ' + line.strip()\n",
    "            else:\n",
    "                if buffer:\n",
    "                    processed_lines.append(buffer)\n",
    "                buffer = line.strip()\n",
    "    \n",
    "    if buffer:\n",
    "        processed_lines.append(buffer)\n",
    "    \n",
    "    with open(file_path, 'w') as file:\n",
    "        for processed_line in processed_lines:\n",
    "            file.write(processed_line + '\\n')"
   ]
  },
  {
   "cell_type": "code",
   "execution_count": 4,
   "metadata": {},
   "outputs": [],
   "source": [
    "def transform_to_csv(input_file, output_file):\n",
    "    with open(input_file, 'r') as infile, open(output_file, 'w', newline='') as outfile:\n",
    "        writer = csv.DictWriter(outfile, fieldnames=[\n",
    "            'original_sentence', 'summary', 'level', 'FRE', 'total_words', 'total_sentences', 'total_syllables'])\n",
    "        writer.writeheader()\n",
    "        \n",
    "        for line in infile:\n",
    "            summary_idx = line.find('Summary:')\n",
    "            level_idx = line.find('Level:')\n",
    "            FRE_idx = line.find('FRE:')\n",
    "            total_words_idx = line.find('Total words:')\n",
    "            total_sentences_idx = line.find('Total sentences:')\n",
    "            total_syllables_idx = line.find('Total syllables:')\n",
    "            \n",
    "            row = {\n",
    "                'original_sentence': original_sentence,\n",
    "                'summary': summary,\n",
    "                'level': level,\n",
    "                'FRE': FRE,\n",
    "                'total_words': total_words,\n",
    "                'total_sentences': total_sentences,\n",
    "                'total_syllables': total_syllables\n",
    "            }\n",
    "            writer.writerow(row)\n"
   ]
  },
  {
   "cell_type": "code",
   "execution_count": 31,
   "metadata": {},
   "outputs": [],
   "source": [
    "count = 10\n",
    "input_file = f'by_word_summary/{count}_word_summary/{count}_word_summary.txt'\n",
    "output_file = f'by_word_summary/{count}_word_summary/{count}_word_summary.csv'"
   ]
  },
  {
   "cell_type": "code",
   "execution_count": 32,
   "metadata": {},
   "outputs": [],
   "source": [
    "remove_empty_lines(input_file)"
   ]
  },
  {
   "cell_type": "code",
   "execution_count": null,
   "metadata": {},
   "outputs": [],
   "source": [
    "combine_lines(input_file)"
   ]
  },
  {
   "cell_type": "code",
   "execution_count": 16,
   "metadata": {},
   "outputs": [],
   "source": [
    "transform_to_csv('by_sentence_summary/6_sentence_summary/6_sentence_summary.txt', 'by_sentence_summary/6_sentence_summary/6_sentence_summary.csv')"
   ]
  }
 ],
 "metadata": {
  "kernelspec": {
   "display_name": "Python 3",
   "language": "python",
   "name": "python3"
  },
  "language_info": {
   "codemirror_mode": {
    "name": "ipython",
    "version": 3
   },
   "file_extension": ".py",
   "mimetype": "text/x-python",
   "name": "python",
   "nbconvert_exporter": "python",
   "pygments_lexer": "ipython3",
   "version": "3.11.4"
  }
 },
 "nbformat": 4,
 "nbformat_minor": 2
}
