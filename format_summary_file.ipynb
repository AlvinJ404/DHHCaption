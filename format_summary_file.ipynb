{
 "cells": [
  {
   "cell_type": "code",
   "execution_count": 17,
   "metadata": {},
   "outputs": [],
   "source": [
    "import csv"
   ]
  },
  {
   "cell_type": "code",
   "execution_count": 3,
   "metadata": {},
   "outputs": [],
   "source": [
    "def append_period(file_path):\n",
    "    with open(file_path, 'r') as file:\n",
    "        lines = file.readlines()\n",
    "    \n",
    "    processed_lines = []\n",
    "    for line in lines:\n",
    "        stripped_line = line.rstrip()\n",
    "        if not stripped_line.endswith('.'):\n",
    "            stripped_line += '.'\n",
    "        processed_lines.append(stripped_line + '\\n')\n",
    "    \n",
    "    with open(file_path, 'w') as file:\n",
    "        file.writelines(processed_lines)"
   ]
  },
  {
   "cell_type": "code",
   "execution_count": 9,
   "metadata": {},
   "outputs": [],
   "source": [
    "def remove_empty_lines(file_path):\n",
    "    with open(file_path, 'r') as file:\n",
    "        lines = file.readlines()\n",
    "    \n",
    "    cleaned_lines = [line for line in lines if line.strip()]\n",
    "\n",
    "    with open(file_path, 'w') as file:\n",
    "        file.writelines(cleaned_lines)\n"
   ]
  },
  {
   "cell_type": "code",
   "execution_count": 12,
   "metadata": {},
   "outputs": [],
   "source": [
    "def combine_lines(file_path):\n",
    "    with open(file_path, 'r') as file:\n",
    "        lines = file.readlines()\n",
    "    \n",
    "    processed_lines = []\n",
    "    \n",
    "    keywords = {\"Summary\", \"Level\", \"FRE\", \"Total words\", \"Total sentences\", \"Total syllables\"}\n",
    "    \n",
    "    buffer = \"\"\n",
    "    \n",
    "    for line in lines:\n",
    "        if line.strip():\n",
    "            parts = line.split(':')\n",
    "            if parts[0].strip() in keywords and buffer:\n",
    "                buffer = buffer.rstrip() + '. ' + line.strip()\n",
    "            else:\n",
    "                if buffer:\n",
    "                    processed_lines.append(buffer)\n",
    "                buffer = line.strip()\n",
    "    \n",
    "    if buffer:\n",
    "        processed_lines.append(buffer)\n",
    "    \n",
    "    with open(file_path, 'w') as file:\n",
    "        for processed_line in processed_lines:\n",
    "            file.write(processed_line + '\\n')"
   ]
  },
  {
   "cell_type": "code",
   "execution_count": 15,
   "metadata": {},
   "outputs": [],
   "source": [
    "def parse_to_csv(input_file, output_file):\n",
    "    with open(input_file, 'r') as infile, open(output_file, 'w', newline='') as outfile:\n",
    "        writer = csv.DictWriter(outfile, fieldnames=[\n",
    "            'original_sentence', 'summary', 'level'])\n",
    "        writer.writeheader()\n",
    "        \n",
    "        for line in infile:\n",
    "            summary_idx = line.find('Summary:')\n",
    "            level_idx = line.find('Level:')\n",
    "\n",
    "            original_sentence = line[19: summary_idx]\n",
    "            summary = line[summary_idx + 9: level_idx]\n",
    "            level = line[level_idx + 7: level_idx + 8]\n",
    "            \n",
    "            row = {\n",
    "                'original_sentence': original_sentence,\n",
    "                'summary': summary,\n",
    "                'level' : level\n",
    "            }\n",
    "            writer.writerow(row)\n"
   ]
  },
  {
   "cell_type": "code",
   "execution_count": 33,
   "metadata": {},
   "outputs": [],
   "source": [
    "sentence_count = 6\n",
    "input_file = f'by_sentence_summary/{sentence_count}_sentence_summary/{sentence_count}_sentence_summary.txt'\n",
    "output_file = f'by_sentence_summary/{sentence_count}_sentence_summary/{sentence_count}_sentence_summary.csv'"
   ]
  },
  {
   "cell_type": "code",
   "execution_count": 48,
   "metadata": {},
   "outputs": [],
   "source": [
    "word_count = 60\n",
    "input_file = f'by_word_summary/{word_count}_word_summary/{word_count}_word_summary.txt'\n",
    "output_file = f'by_word_summary/{word_count}_word_summary/{word_count}_word_summary.csv'"
   ]
  },
  {
   "cell_type": "code",
   "execution_count": 49,
   "metadata": {},
   "outputs": [],
   "source": [
    "append_period(input_file)"
   ]
  },
  {
   "cell_type": "code",
   "execution_count": 50,
   "metadata": {},
   "outputs": [],
   "source": [
    "# append_period(input_file)\n",
    "remove_empty_lines(input_file)\n",
    "combine_lines(input_file)\n",
    "parse_to_csv(input_file, output_file)"
   ]
  },
  {
   "cell_type": "markdown",
   "metadata": {},
   "source": [
    "For experimentation purposes"
   ]
  },
  {
   "cell_type": "code",
   "execution_count": 14,
   "metadata": {},
   "outputs": [
    {
     "name": "stdout",
     "output_type": "stream",
     "text": [
      "Obvious is what is a cryptocurrency? \n",
      "What is a cryptocurrency? \n",
      "10\n"
     ]
    }
   ],
   "source": [
    "line = \"Original sentence: Obvious is what is a cryptocurrency? Summary: What is a cryptocurrency? Level: 10. FRE: 122. Total words: 4. Total sentences: 1. Total syllables: 7.\"\n",
    "\n",
    "summary_idx = line.find('Summary:')\n",
    "level_idx = line.find('Level:')\n",
    "\n",
    "original_sentence = line[19: summary_idx]\n",
    "summary = line[summary_idx + 9: level_idx]\n",
    "level = line[level_idx + 7: level_idx + 8] if line[level_idx + 8] == '.' else line[level_idx + 7: level_idx + 9]\n",
    "\n",
    "print(original_sentence)\n",
    "print(summary)\n",
    "print(level)"
   ]
  }
 ],
 "metadata": {
  "kernelspec": {
   "display_name": "Python 3",
   "language": "python",
   "name": "python3"
  },
  "language_info": {
   "codemirror_mode": {
    "name": "ipython",
    "version": 3
   },
   "file_extension": ".py",
   "mimetype": "text/x-python",
   "name": "python",
   "nbconvert_exporter": "python",
   "pygments_lexer": "ipython3",
   "version": "3.11.4"
  }
 },
 "nbformat": 4,
 "nbformat_minor": 2
}
