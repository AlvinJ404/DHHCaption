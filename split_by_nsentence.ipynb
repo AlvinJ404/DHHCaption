{
 "cells": [
  {
   "cell_type": "code",
   "execution_count": 18,
   "metadata": {},
   "outputs": [
    {
     "name": "stderr",
     "output_type": "stream",
     "text": [
      "[nltk_data] Downloading package punkt to\n",
      "[nltk_data]     C:\\Users\\alvin\\AppData\\Roaming\\nltk_data...\n",
      "[nltk_data]   Package punkt is already up-to-date!\n"
     ]
    },
    {
     "data": {
      "text/plain": [
       "True"
      ]
     },
     "execution_count": 18,
     "metadata": {},
     "output_type": "execute_result"
    }
   ],
   "source": [
    "import nltk\n",
    "nltk.download('punkt')"
   ]
  },
  {
   "cell_type": "code",
   "execution_count": 19,
   "metadata": {},
   "outputs": [],
   "source": [
    "def split_text_into_sentences(file_path):\n",
    "    with open(file_path, 'r', encoding='utf-8') as file:\n",
    "        text = file.read()\n",
    "    \n",
    "    sentences = nltk.sent_tokenize(text)\n",
    "    return sentences"
   ]
  },
  {
   "cell_type": "code",
   "execution_count": 20,
   "metadata": {},
   "outputs": [],
   "source": [
    "def create_combined_sentence(sentences, num_sentences):\n",
    "    combined_sentences = [\n",
    "        ' '.join(sentences[i:i + num_sentences])\n",
    "        for i in range(0, len(sentences), num_sentences)\n",
    "    ]\n",
    "    return combined_sentences\n",
    "\n",
    "# def create_combined_sentence_json(sentences, num_sentences):\n",
    "#     combined_sentences = [\n",
    "#         {'number': i + 1, 'sentence': ' '.join(sentences[i:i + num_sentences])}\n",
    "#         for i in range(0, len(sentences), num_sentences)\n",
    "#     ]\n",
    "#     return combined_sentences\n",
    "\n",
    "combined_sentences_1 = create_combined_sentence(split_text_into_sentences('PrelimTranscript.txt'), 1)\n",
    "combined_sentences_2 = create_combined_sentence(split_text_into_sentences('PrelimTranscript.txt'), 2)\n",
    "combined_sentences_3 = create_combined_sentence(split_text_into_sentences('PrelimTranscript.txt'), 3)\n",
    "combined_sentences_4 = create_combined_sentence(split_text_into_sentences('PrelimTranscript.txt'), 4)\n",
    "combined_sentences_5 = create_combined_sentence(split_text_into_sentences('PrelimTranscript.txt'), 5)\n",
    "combined_sentences_6 = create_combined_sentence(split_text_into_sentences('PrelimTranscript.txt'), 6)"
   ]
  },
  {
   "cell_type": "markdown",
   "metadata": {},
   "source": [
    "saving to txt"
   ]
  },
  {
   "cell_type": "code",
   "execution_count": 21,
   "metadata": {},
   "outputs": [],
   "source": [
    "def save_to_txt(combined_sentences, num_sentences):\n",
    "    with open(f'combined_by_nsentence_txt/combined_by_{num_sentences}_sentence.txt', 'w', encoding='utf-8') as file:\n",
    "        pass\n",
    "\n",
    "    with open(f'combined_by_nsentence_txt/combined_by_{num_sentences}_sentence.txt', 'a', encoding='utf-8') as file:\n",
    "        for combined_sentence in combined_sentences:\n",
    "            file.write(combined_sentence + '\\n')\n"
   ]
  },
  {
   "cell_type": "code",
   "execution_count": 22,
   "metadata": {},
   "outputs": [],
   "source": [
    "save_to_txt(combined_sentences_1, 1)\n",
    "save_to_txt(combined_sentences_2, 2)\n",
    "save_to_txt(combined_sentences_3, 3)\n",
    "save_to_txt(combined_sentences_4, 4)\n",
    "save_to_txt(combined_sentences_5, 5)\n",
    "save_to_txt(combined_sentences_6, 6)"
   ]
  }
 ],
 "metadata": {
  "kernelspec": {
   "display_name": "Python 3",
   "language": "python",
   "name": "python3"
  },
  "language_info": {
   "codemirror_mode": {
    "name": "ipython",
    "version": 3
   },
   "file_extension": ".py",
   "mimetype": "text/x-python",
   "name": "python",
   "nbconvert_exporter": "python",
   "pygments_lexer": "ipython3",
   "version": "3.11.4"
  }
 },
 "nbformat": 4,
 "nbformat_minor": 2
}
