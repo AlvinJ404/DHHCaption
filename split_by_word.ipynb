{
 "cells": [
  {
   "cell_type": "code",
   "execution_count": 1,
   "metadata": {},
   "outputs": [],
   "source": [
    "def segment_text(input_file, output_file, words_per_line):\n",
    "    with open(input_file, 'r') as file:\n",
    "        text = file.read()\n",
    "    \n",
    "    words = text.split()\n",
    "    \n",
    "    segmented_lines = []\n",
    "    \n",
    "    # Create segments of words_per_line words\n",
    "    for i in range(0, len(words), words_per_line):\n",
    "        segment = words[i:i + words_per_line]\n",
    "        segmented_lines.append(' '.join(segment))\n",
    "    \n",
    "    # Write the segmented lines to the output file\n",
    "    with open(output_file, 'w') as file:\n",
    "        for line in segmented_lines:\n",
    "            file.write(line + '\\n')\n",
    "    \n",
    "    print(f\"Segmented text written to {output_file}\")"
   ]
  },
  {
   "cell_type": "code",
   "execution_count": 3,
   "metadata": {},
   "outputs": [
    {
     "name": "stdout",
     "output_type": "stream",
     "text": [
      "Segmented text written to combined_by_words/combined_by_10_word.txt\n",
      "Segmented text written to combined_by_words/combined_by_20_word.txt\n",
      "Segmented text written to combined_by_words/combined_by_25_word.txt\n",
      "Segmented text written to combined_by_words/combined_by_30_word.txt\n",
      "Segmented text written to combined_by_words/combined_by_40_word.txt\n",
      "Segmented text written to combined_by_words/combined_by_50_word.txt\n"
     ]
    }
   ],
   "source": [
    "segment_text('PrelimTranscript.txt','combined_by_words/combined_by_10_word.txt', 10)\n",
    "segment_text('PrelimTranscript.txt','combined_by_words/combined_by_20_word.txt', 20)\n",
    "segment_text('PrelimTranscript.txt','combined_by_words/combined_by_25_word.txt', 25)\n",
    "segment_text('PrelimTranscript.txt','combined_by_words/combined_by_30_word.txt', 30)\n",
    "segment_text('PrelimTranscript.txt','combined_by_words/combined_by_40_word.txt', 40)\n",
    "segment_text('PrelimTranscript.txt','combined_by_words/combined_by_50_word.txt', 50)"
   ]
  }
 ],
 "metadata": {
  "kernelspec": {
   "display_name": "Python 3",
   "language": "python",
   "name": "python3"
  },
  "language_info": {
   "codemirror_mode": {
    "name": "ipython",
    "version": 3
   },
   "file_extension": ".py",
   "mimetype": "text/x-python",
   "name": "python",
   "nbconvert_exporter": "python",
   "pygments_lexer": "ipython3",
   "version": "3.11.4"
  }
 },
 "nbformat": 4,
 "nbformat_minor": 2
}
