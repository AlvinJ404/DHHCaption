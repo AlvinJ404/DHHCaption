{
 "cells": [
  {
   "cell_type": "code",
   "execution_count": 9,
   "metadata": {},
   "outputs": [],
   "source": [
    "import nltk\n",
    "from nltk.tokenize import word_tokenize\n",
    "from nltk.corpus import cmudict\n",
    "import string\n",
    "# import csv\n",
    "import pandas as pd"
   ]
  },
  {
   "cell_type": "code",
   "execution_count": 10,
   "metadata": {},
   "outputs": [
    {
     "name": "stderr",
     "output_type": "stream",
     "text": [
      "[nltk_data] Downloading package cmudict to\n",
      "[nltk_data]     C:\\Users\\alvin\\AppData\\Roaming\\nltk_data...\n",
      "[nltk_data]   Package cmudict is already up-to-date!\n"
     ]
    }
   ],
   "source": [
    "nltk.download('cmudict')\n",
    "d = cmudict.dict()"
   ]
  },
  {
   "cell_type": "code",
   "execution_count": 11,
   "metadata": {},
   "outputs": [],
   "source": [
    "def remove_punctuation(sentence):\n",
    "    translation_table = str.maketrans('', '', string.punctuation)\n",
    "    return sentence.translate(translation_table)"
   ]
  },
  {
   "cell_type": "code",
   "execution_count": 12,
   "metadata": {},
   "outputs": [],
   "source": [
    "def all_words_in_d(sentence, d):\n",
    "    sentence = remove_punctuation(sentence).lower().strip()\n",
    "    words = word_tokenize(sentence)\n",
    "    return all(word in d for word in words)"
   ]
  },
  {
   "cell_type": "code",
   "execution_count": 13,
   "metadata": {},
   "outputs": [],
   "source": [
    "input_count = 30\n",
    "# input_file = f'by_sentence_summary/{input_count}_sentence_summary/{input_count}_sentence_summary.csv'\n",
    "input_file = f'by_word_summary/{input_count}_word_summary/{input_count}_word_summary.csv'\n",
    "\n",
    "df = pd.read_csv(input_file)\n",
    "\n",
    "truncated_df = df[df['summary'].apply(lambda x: all_words_in_d(x, d))]\n",
    "\n",
    "truncated_df.to_csv(input_file, index=False)"
   ]
  },
  {
   "cell_type": "markdown",
   "metadata": {},
   "source": [
    "For experimentation purposes"
   ]
  },
  {
   "cell_type": "code",
   "execution_count": 29,
   "metadata": {},
   "outputs": [
    {
     "name": "stdout",
     "output_type": "stream",
     "text": [
      "1377\n",
      "1377\n"
     ]
    }
   ],
   "source": [
    "input_file = 'by_sentence_summary/1_sentence_summary/1_sentence_summary.csv'\n",
    "\n",
    "df2 = pd.read_csv(input_file)\n",
    "\n",
    "lines = df2['summary'].tolist()\n",
    "\n",
    "print(len(lines))\n",
    "\n",
    "for line in lines:\n",
    "    if not all_words_in_d(line, d):\n",
    "        lines.remove(line)\n",
    "            \n",
    "print(len(lines))"
   ]
  },
  {
   "cell_type": "code",
   "execution_count": 25,
   "metadata": {},
   "outputs": [
    {
     "name": "stdout",
     "output_type": "stream",
     "text": [
      "hello\n"
     ]
    }
   ],
   "source": [
    "str = 'hello\\|'\n",
    "print(remove_punctuation(str))"
   ]
  },
  {
   "cell_type": "code",
   "execution_count": 7,
   "metadata": {},
   "outputs": [
    {
     "name": "stdout",
     "output_type": "stream",
     "text": [
      "548\n",
      "nan\n",
      "550\n",
      "nan\n",
      "552\n",
      "nan\n",
      "554\n",
      "nan\n",
      "556\n",
      "nan\n",
      "558\n",
      "nan\n",
      "560\n",
      "nan\n",
      "562\n",
      "nan\n",
      "8\n"
     ]
    }
   ],
   "source": [
    "input_file = 'by_word_summary/20_word_summary/20_word_summary.csv'\n",
    "df = pd.read_csv(input_file)  \n",
    "lines = df['summary'].tolist()\n",
    "key = 0\n",
    "count = 0\n",
    "for line in lines:\n",
    "    key += 1\n",
    "    if not isinstance(line, str):\n",
    "        print(key)\n",
    "        count += 1\n",
    "        print(line)\n",
    "\n",
    "print(count)"
   ]
  }
 ],
 "metadata": {
  "kernelspec": {
   "display_name": "Python 3",
   "language": "python",
   "name": "python3"
  },
  "language_info": {
   "codemirror_mode": {
    "name": "ipython",
    "version": 3
   },
   "file_extension": ".py",
   "mimetype": "text/x-python",
   "name": "python",
   "nbconvert_exporter": "python",
   "pygments_lexer": "ipython3",
   "version": "3.11.4"
  }
 },
 "nbformat": 4,
 "nbformat_minor": 2
}
